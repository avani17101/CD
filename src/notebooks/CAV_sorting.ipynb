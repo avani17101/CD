{
 "cells": [
  {
   "cell_type": "code",
   "execution_count": 1,
   "id": "3c91ff92",
   "metadata": {},
   "outputs": [],
   "source": [
    "from networks_classi import *\n",
    "from utils_train import *"
   ]
  },
  {
   "cell_type": "code",
   "execution_count": 2,
   "id": "41ce67c1",
   "metadata": {},
   "outputs": [],
   "source": [
    "import os\n",
    "import glob\n",
    "import torch\n",
    "import numpy as np\n",
    "import matplotlib.pyplot as plt\n",
    "import random\n",
    "import torch.nn.functional as F"
   ]
  },
  {
   "cell_type": "code",
   "execution_count": 3,
   "id": "541cf35e",
   "metadata": {},
   "outputs": [
    {
     "data": {
      "text/plain": [
       "['mapped_2',\n",
       " 'debiased_studentstudent_space_mnist',\n",
       " 'dino_mapped_to_stu_space_mnist',\n",
       " 'student_space_mnist',\n",
       " 'direct_dino_pca_space_mnist']"
      ]
     },
     "execution_count": 3,
     "metadata": {},
     "output_type": "execute_result"
    }
   ],
   "source": [
    "path = '/media/Data2/avani.gupta/fc/'\n",
    "os.listdir(path)"
   ]
  },
  {
   "cell_type": "code",
   "execution_count": 4,
   "id": "ee563eb1",
   "metadata": {
    "scrolled": true
   },
   "outputs": [
    {
     "data": {
      "text/plain": [
       "['/media/Data2/avani.gupta/fc/direct_dino_pca_space_mnist/biased_color9_cons_randoms0.9666666666666667fc.pt',\n",
       " '/media/Data2/avani.gupta/fc/direct_dino_pca_space_mnist/biased_color0_cons_randoms0.9833333333333333fc.pt',\n",
       " '/media/Data2/avani.gupta/fc/direct_dino_pca_space_mnist/biased_color2_cons_randoms0.9666666666666667fc.pt',\n",
       " '/media/Data2/avani.gupta/fc/direct_dino_pca_space_mnist/biased_color7_cons_randoms1.0fc.pt',\n",
       " '/media/Data2/avani.gupta/fc/direct_dino_pca_space_mnist/biased_color3_cons_randoms0.9833333333333333fc.pt',\n",
       " '/media/Data2/avani.gupta/fc/direct_dino_pca_space_mnist/biased_color8_cons_randoms0.9833333333333333fc.pt',\n",
       " '/media/Data2/avani.gupta/fc/direct_dino_pca_space_mnist/biased_color5_cons_randoms1.0fc.pt',\n",
       " '/media/Data2/avani.gupta/fc/direct_dino_pca_space_mnist/biased_color0_cons_randoms1.0fc.pt',\n",
       " '/media/Data2/avani.gupta/fc/direct_dino_pca_space_mnist/biased_color4_cons_randoms0.9833333333333333fc.pt',\n",
       " '/media/Data2/avani.gupta/fc/direct_dino_pca_space_mnist/biased_color6_cons_randoms1.0fc.pt',\n",
       " '/media/Data2/avani.gupta/fc/direct_dino_pca_space_mnist/biased_color4_cons_randoms0.9666666666666667fc.pt',\n",
       " '/media/Data2/avani.gupta/fc/direct_dino_pca_space_mnist/biased_color7_cons_randoms0.9833333333333333fc.pt',\n",
       " '/media/Data2/avani.gupta/fc/direct_dino_pca_space_mnist/biased_color5_cons_randoms0.9833333333333333fc.pt',\n",
       " '/media/Data2/avani.gupta/fc/direct_dino_pca_space_mnist/biased_color2_cons_randoms0.9166666666666666fc.pt',\n",
       " '/media/Data2/avani.gupta/fc/direct_dino_pca_space_mnist/biased_color1_cons_randoms0.9833333333333333fc.pt',\n",
       " '/media/Data2/avani.gupta/fc/direct_dino_pca_space_mnist/biased_color2_cons_randoms0.9fc.pt',\n",
       " '/media/Data2/avani.gupta/fc/direct_dino_pca_space_mnist/biased_color3_cons_randoms0.95fc.pt',\n",
       " '/media/Data2/avani.gupta/fc/direct_dino_pca_space_mnist/biased_color9_cons_randoms0.9833333333333333fc.pt',\n",
       " '/media/Data2/avani.gupta/fc/direct_dino_pca_space_mnist/biased_color1_cons_randoms1.0fc.pt']"
      ]
     },
     "execution_count": 4,
     "metadata": {},
     "output_type": "execute_result"
    }
   ],
   "source": [
    "teacher_cav_files = glob.glob(path+'direct_dino_pca_space_mnist/*')\n",
    "teacher_cav_files"
   ]
  },
  {
   "cell_type": "code",
   "execution_count": 5,
   "id": "d268e178",
   "metadata": {},
   "outputs": [
    {
     "data": {
      "text/plain": [
       "torch.Size([576])"
      ]
     },
     "execution_count": 5,
     "metadata": {},
     "output_type": "execute_result"
    }
   ],
   "source": [
    "teacher_direc_mean = torch.load('/media/Data2/avani.gupta/fc/direct_dino_pca_space_mnist/biased_color0_cons_randoms1.0fc.pt')['weight'][0]\n",
    "teacher_direc_mean.shape"
   ]
  },
  {
   "cell_type": "code",
   "execution_count": 6,
   "id": "5b531eb6",
   "metadata": {},
   "outputs": [],
   "source": [
    "x_numpy_train = np.load(os.path.join(\"dep/data/ColorMNIST\", \"train_x.npy\"))\n",
    "mean = x_numpy_train.mean(axis = (0,2,3))\n",
    "std = x_numpy_train.std(axis = (0,2,3))\n",
    "    \n",
    "def load_dataset(name, path='dep/'):\n",
    "    x_numpy = np.load(os.path.join(path+\"data/ColorMNIST\", name + \"_x.npy\"))\n",
    "    if x_numpy.max() > 1:\n",
    "        x_numpy /= 255.0\n",
    "#     x_numpy -= mean[None, :, None, None,]\n",
    "#     x_numpy /= std[None, :, None, None,]\n",
    "    y_numpy = np.load(os.path.join(path+\"data/ColorMNIST\", name +\"_y.npy\"))\n",
    "    return x_numpy, y_numpy  ##transform back by *std + mean\n",
    "#     x_tensor = torch.Tensor(x_numpy)\n",
    "#     y_tensor = torch.Tensor(y_numpy).type(torch.int64)\n",
    "#     dataset = tutils.TensorDataset(x_tensor,y_tensor) \n",
    "#     return dataset, x_tensor, y_tensor\n",
    "\n",
    "num_imgs = 150"
   ]
  },
  {
   "cell_type": "code",
   "execution_count": 7,
   "id": "69ec7f54",
   "metadata": {},
   "outputs": [],
   "source": [
    "## map these activations to teacher space\n",
    "from zero_save_dino_outs import *"
   ]
  },
  {
   "cell_type": "markdown",
   "id": "aa2e0481",
   "metadata": {},
   "source": [
    "### save concept imgs:\n",
    "red, red zeros, other color zeros, red non-zero digits "
   ]
  },
  {
   "cell_type": "code",
   "execution_count": 8,
   "id": "15b3fd3a",
   "metadata": {},
   "outputs": [
    {
     "name": "stderr",
     "output_type": "stream",
     "text": [
      "100%|██████████████████████████████████████████████████████████| 6000/6000 [00:00<00:00, 45947.52it/s]\n"
     ]
    },
    {
     "data": {
      "text/plain": [
       "(6000, 3, 28, 28)"
      ]
     },
     "execution_count": 8,
     "metadata": {},
     "output_type": "execute_result"
    }
   ],
   "source": [
    "import torch\n",
    "import torchvision\n",
    "import torchvision.datasets as datasets\n",
    "import sys\n",
    "import numpy as np\n",
    "import torch.utils.data as utils\n",
    "from tqdm import tqdm\n",
    "from colour import Color\n",
    "import os\n",
    "from os.path import join as oj\n",
    "np.random.seed(0)\n",
    "red = Color(\"red\")\n",
    "colors = list(red.range_to(Color(\"purple\"),10))\n",
    "colors = [np.asarray(x.get_rgb()) for x in colors]\n",
    "\n",
    "\n",
    "mnist_trainset = datasets.MNIST(root='../../data', train=True, download=True, transform=None)\n",
    "num_train = int(len(mnist_trainset)*.9)\n",
    "num_val = len(mnist_trainset)  - num_train \n",
    "torch.manual_seed(0)\n",
    "train_dataset, val_dataset,= torch.utils.data.random_split(mnist_trainset, [num_train, num_val])\n",
    "\n",
    "\n",
    "num_samples = len(val_dataset)\n",
    "color_x = np.zeros((num_samples, 3, 28, 28), dtype = np.float32)\n",
    "color_y = np.empty(num_samples, dtype = np.int16)\n",
    "for i in tqdm(range(num_samples)):\n",
    "    my_color  = colors[0]\n",
    "    color_x[i] = val_dataset.dataset.data[val_dataset.indices[i]].numpy().astype(np.float32)[np.newaxis]*my_color[:, None, None]\n",
    "    color_y[i] = val_dataset.dataset.targets[val_dataset.indices[i]]\n",
    "# os.makedirs(\"../../data/ColorMNIST\", exist_ok = True)\n",
    "# np.save(oj(\"../../data/ColorMNIST\", \"val_x.npy\"), color_x)\n",
    "# np.save(oj(\"../../data/ColorMNIST\", \"val_y.npy\"), color_y)\n",
    "color_x.shape"
   ]
  },
  {
   "cell_type": "code",
   "execution_count": 20,
   "id": "d2971bc3",
   "metadata": {},
   "outputs": [
    {
     "data": {
      "text/plain": [
       "[array([1., 0., 0.]),\n",
       " array([0.94466231, 0.52481239, 0.        ]),\n",
       " array([0.79051077, 0.88932462, 0.        ]),\n",
       " array([0.27799564, 0.83398693, 0.        ]),\n",
       " array([0.        , 0.77864924, 0.17303316]),\n",
       " array([0.        , 0.72331155, 0.56257565]),\n",
       " array([0.        , 0.4453159 , 0.66797386]),\n",
       " array([0.        , 0.06807069, 0.61263617]),\n",
       " array([0.24768821, 0.        , 0.55729847]),\n",
       " array([0.50196078, 0.        , 0.50196078])]"
      ]
     },
     "execution_count": 20,
     "metadata": {},
     "output_type": "execute_result"
    }
   ],
   "source": [
    "colors"
   ]
  },
  {
   "cell_type": "code",
   "execution_count": 25,
   "id": "0b33d4ce",
   "metadata": {},
   "outputs": [
    {
     "data": {
      "text/plain": [
       "array([1., 0., 0.])"
      ]
     },
     "execution_count": 25,
     "metadata": {},
     "output_type": "execute_result"
    }
   ],
   "source": [
    "colors[random.randint(0,len(colors))]"
   ]
  },
  {
   "cell_type": "code",
   "execution_count": 27,
   "id": "0643f5ec",
   "metadata": {},
   "outputs": [
    {
     "name": "stderr",
     "output_type": "stream",
     "text": [
      "100%|██████████████████████████████████████████████████████████| 6000/6000 [00:00<00:00, 33530.92it/s]\n"
     ]
    }
   ],
   "source": [
    "num_samples = len(val_dataset)\n",
    "color_x = np.zeros((num_samples, 3, 28, 28), dtype = np.float32)\n",
    "color_y = np.empty(num_samples, dtype = np.int16)\n",
    "for i in tqdm(range(num_samples)):\n",
    "    \n",
    "    my_color  = colors[random.randint(0,len(colors)-1)]\n",
    "    color_x[i] = val_dataset.dataset.data[val_dataset.indices[i]].numpy().astype(np.float32)[np.newaxis]*my_color[:, None, None]\n",
    "    color_y[i] = val_dataset.dataset.targets[val_dataset.indices[i]]"
   ]
  },
  {
   "cell_type": "code",
   "execution_count": 41,
   "id": "40a5abb6",
   "metadata": {},
   "outputs": [
    {
     "name": "stderr",
     "output_type": "stream",
     "text": [
      "Clipping input data to the valid range for imshow with RGB data ([0..1] for floats or [0..255] for integers).\n",
      "Clipping input data to the valid range for imshow with RGB data ([0..1] for floats or [0..255] for integers).\n"
     ]
    },
    {
     "ename": "IndexError",
     "evalue": "index 1000 is out of bounds for axis 0 with size 649",
     "output_type": "error",
     "traceback": [
      "\u001b[0;31m---------------------------------------------------------------------------\u001b[0m",
      "\u001b[0;31mIndexError\u001b[0m                                Traceback (most recent call last)",
      "Input \u001b[0;32mIn [41]\u001b[0m, in \u001b[0;36m<cell line: 13>\u001b[0;34m()\u001b[0m\n\u001b[1;32m     10\u001b[0m plt\u001b[38;5;241m.\u001b[39mfigure()\n\u001b[1;32m     11\u001b[0m plt\u001b[38;5;241m.\u001b[39mimshow(im)\n\u001b[0;32m---> 13\u001b[0m im \u001b[38;5;241m=\u001b[39m np\u001b[38;5;241m.\u001b[39mtranspose(\u001b[43mzeros_other_color\u001b[49m\u001b[43m[\u001b[49m\u001b[38;5;241;43m1000\u001b[39;49m\u001b[43m]\u001b[49m, (\u001b[38;5;241m1\u001b[39m,\u001b[38;5;241m2\u001b[39m,\u001b[38;5;241m0\u001b[39m))\n\u001b[1;32m     14\u001b[0m plt\u001b[38;5;241m.\u001b[39mfigure()\n\u001b[1;32m     15\u001b[0m plt\u001b[38;5;241m.\u001b[39mimshow(im)\n",
      "\u001b[0;31mIndexError\u001b[0m: index 1000 is out of bounds for axis 0 with size 649"
     ]
    },
    {
     "data": {
      "image/png": "[encoded data removed]",
      "text/plain": [
       "<Figure size 432x288 with 1 Axes>"
      ]
     },
     "metadata": {
      "needs_background": "light"
     },
     "output_type": "display_data"
    },
    {
     "data": {
      "image/png": "[encoded data removed]",
      "text/plain": [
       "<Figure size 432x288 with 1 Axes>"
      ]
     },
     "metadata": {
      "needs_background": "light"
     },
     "output_type": "display_data"
    }
   ],
   "source": [
    "# ind = np.where(color_y==0)[0]\n",
    "# zeros_other_color = color_x[ind]\n",
    "\n",
    "i = 0\n",
    "im = np.transpose(zeros_other_color[0], (1,2,0))\n",
    "plt.figure()\n",
    "plt.imshow(im)\n",
    "\n",
    "im = np.transpose(zeros_other_color[10], (1,2,0))\n",
    "plt.figure()\n",
    "plt.imshow(im)\n",
    "\n",
    "im = np.transpose(zeros_other_color[1000], (1,2,0))\n",
    "plt.figure()\n",
    "plt.imshow(im)"
   ]
  },
  {
   "cell_type": "code",
   "execution_count": 9,
   "id": "a008407f",
   "metadata": {},
   "outputs": [
    {
     "name": "stderr",
     "output_type": "stream",
     "text": [
      "Clipping input data to the valid range for imshow with RGB data ([0..1] for floats or [0..255] for integers).\n",
      "Clipping input data to the valid range for imshow with RGB data ([0..1] for floats or [0..255] for integers).\n",
      "Clipping input data to the valid range for imshow with RGB data ([0..1] for floats or [0..255] for integers).\n"
     ]
    },
    {
     "data": {
      "text/plain": [
       "<matplotlib.image.AxesImage at 0x7fb878331370>"
      ]
     },
     "execution_count": 9,
     "metadata": {},
     "output_type": "execute_result"
    },
    {
     "data": {
      "image/png": "[encoded data removed]",
      "text/plain": [
       "<Figure size 432x288 with 1 Axes>"
      ]
     },
     "metadata": {
      "needs_background": "light"
     },
     "output_type": "display_data"
    },
    {
     "data": {
      "image/png": "[encoded data removed]",
      "text/plain": [
       "<Figure size 432x288 with 1 Axes>"
      ]
     },
     "metadata": {
      "needs_background": "light"
     },
     "output_type": "display_data"
    },
    {
     "data": {
      "image/png": "[encoded data removed]",
      "text/plain": [
       "<Figure size 432x288 with 1 Axes>"
      ]
     },
     "metadata": {
      "needs_background": "light"
     },
     "output_type": "display_data"
    }
   ],
   "source": [
    "ind = np.where(color_y!=0)[0]\n",
    "non_zeros_red = color_x[ind]\n",
    "\n",
    "i = 0\n",
    "im = np.transpose(non_zeros_red[0], (1,2,0))\n",
    "plt.figure()\n",
    "plt.imshow(im)\n",
    "\n",
    "im = np.transpose(non_zeros_red[10], (1,2,0))\n",
    "plt.figure()\n",
    "plt.imshow(im)\n",
    "\n",
    "im = np.transpose(non_zeros_red[1003], (1,2,0))\n",
    "plt.figure()\n",
    "plt.imshow(im)"
   ]
  },
  {
   "cell_type": "code",
   "execution_count": 10,
   "id": "8be17a94",
   "metadata": {},
   "outputs": [],
   "source": [
    "model = MNISTColorNet()\n",
    "# model.load_state_dict(torch.load('mnist/ColorMNIST/orig_model_colorMNIST.pt'))\n",
    "# model.eval().cuda()\n",
    "# bottleneck_name = 'conv2'\n",
    "bottleneck_name = 'conv2'\n",
    "model_type = 'colormnist'\n",
    "shape = (28,28)\n",
    "concepts = ['red','red_zeros','other_color_zeros','other_color_digits','non_zeros_red','non_red_zeros']\n",
    "\n",
    "def save_student_outs(con, imgs, prefix=\"debiased_student\"):\n",
    "    save_path = f\"/media/Data2/avani.gupta/{prefix}acts_\"+model_type+bottleneck_name+'/'\n",
    "    if not os.path.exists(save_path):\n",
    "        os.makedirs(save_path)\n",
    "    bn_activation = None\n",
    "    acts = []\n",
    "    for im in imgs[:num_imgs]:\n",
    "        def save_activation_hook(mod, inp, out):\n",
    "            global bn_activation\n",
    "            bn_activation = out\n",
    "        im = torch.from_numpy(im)\n",
    "        handle = named_layers[bottleneck_name].register_forward_hook(save_activation_hook)\n",
    "        out = model(im.unsqueeze(0).cuda().float())\n",
    "        act = bn_activation.detach()\n",
    "        acts.append(act)\n",
    "        handle.remove()\n",
    "    acts = torch.concat(acts,axis=0)\n",
    "    torch.save(acts,save_path+con+'all.pt')\n",
    "    print(\"acts\",acts.shape)\n",
    "    print(f\"saved {acts.shape} to {save_path+con+'all.pt'}\")\n",
    "    \n"
   ]
  },
  {
   "cell_type": "code",
   "execution_count": 52,
   "id": "bcf4e3bb",
   "metadata": {},
   "outputs": [
    {
     "data": {
      "text/plain": [
       "MNISTColorNet(\n",
       "  (conv1): Conv2d(3, 20, kernel_size=(5, 5), stride=(1, 1))\n",
       "  (conv2): Conv2d(20, 50, kernel_size=(5, 5), stride=(1, 1))\n",
       "  (fc1): Linear(in_features=800, out_features=500, bias=True)\n",
       "  (fc2): Linear(in_features=500, out_features=10, bias=True)\n",
       ")"
      ]
     },
     "execution_count": 52,
     "metadata": {},
     "output_type": "execute_result"
    }
   ],
   "source": [
    "model = MNISTColorNet()\n",
    "model.load_state_dict(torch.load('/media/Data2/avani.gupta/acc46.03best_val_acc45.28highest_epoch0iter0colormnistmnistp8nimg150lr0.01rr0.3wtcav5bs44pwt0.3upr1cd1precalc1up1scratch0uknn1cwt0s42corr'))\n",
    "prefix = 'debiased_student'\n",
    "named_layers = dict(model.named_modules())\n",
    "# model.load_state_dict(torch.load('mnist/ColorMNIST/orig_model_colorMNIST.pt'))\n",
    "model.eval().cuda()"
   ]
  },
  {
   "cell_type": "code",
   "execution_count": 84,
   "id": "96098291",
   "metadata": {},
   "outputs": [
    {
     "data": {
      "text/plain": [
       "<matplotlib.image.AxesImage at 0x7fcef4a8efa0>"
      ]
     },
     "execution_count": 84,
     "metadata": {},
     "output_type": "execute_result"
    },
    {
     "data": {
      "image/png": "[encoded data removed]",
      "text/plain": [
       "<Figure size 432x288 with 1 Axes>"
      ]
     },
     "metadata": {
      "needs_background": "light"
     },
     "output_type": "display_data"
    }
   ],
   "source": [
    "train_x,train_y = load_dataset(\"train\")\n",
    "zeros_ind = np.where(train_y==0)[0]\n",
    "zeros_imgs = train_x[zeros_ind]\n",
    "i = 0\n",
    "im = np.transpose(zeros_imgs[0], (1,2,0))\n",
    "plt.imshow(im)\n",
    "# print(im)"
   ]
  },
  {
   "cell_type": "code",
   "execution_count": 51,
   "id": "b2110022",
   "metadata": {},
   "outputs": [
    {
     "data": {
      "text/plain": [
       "<matplotlib.image.AxesImage at 0x7fb81d4914f0>"
      ]
     },
     "execution_count": 51,
     "metadata": {},
     "output_type": "execute_result"
    },
    {
     "data": {
      "image/png": "[encoded data removed]",
      "text/plain": [
       "<Figure size 432x288 with 1 Axes>"
      ]
     },
     "metadata": {
      "needs_background": "light"
     },
     "output_type": "display_data"
    }
   ],
   "source": [
    "# train_x,train_y = load_dataset(\"test\")\n",
    "# zeros_ind = np.where(train_y==0)[0]\n",
    "# zeros_imgs = train_x[zeros_ind]\n",
    "# i = 0\n",
    "im = np.transpose(zeros_imgs[10], (1,2,0)) ##negative red zeros\n",
    "plt.imshow(im)\n",
    "# print(im)"
   ]
  },
  {
   "cell_type": "code",
   "execution_count": 53,
   "id": "93461b60",
   "metadata": {},
   "outputs": [
    {
     "name": "stdout",
     "output_type": "stream",
     "text": [
      "acts torch.Size([150, 50, 8, 8])\n",
      "saved torch.Size([150, 50, 8, 8]) to /media/Data2/avani.gupta/debiased_studentacts_colormnistconv2/opp_zerosall.pt\n"
     ]
    }
   ],
   "source": [
    "prefix = 'debiased_student'\n",
    "imgs = zeros_imgs\n",
    "con = 'opp_zeros'\n",
    "save_path = f\"/media/Data2/avani.gupta/{prefix}acts_\"+model_type+bottleneck_name+'/'\n",
    "if not os.path.exists(save_path):\n",
    "    os.makedirs(save_path)\n",
    "bn_activation = None\n",
    "acts = []\n",
    "for im in imgs[:num_imgs]:\n",
    "    def save_activation_hook(mod, inp, out):\n",
    "        global bn_activation\n",
    "        bn_activation = out\n",
    "    im = torch.from_numpy(im)\n",
    "    handle = named_layers[bottleneck_name].register_forward_hook(save_activation_hook)\n",
    "    out = model(im.unsqueeze(0).cuda().float())\n",
    "    act = bn_activation.detach()\n",
    "    acts.append(act)\n",
    "    handle.remove()\n",
    "acts = torch.concat(acts,axis=0)\n",
    "torch.save(acts,save_path+con+'all.pt')\n",
    "print(\"acts\",acts.shape)\n",
    "print(f\"saved {acts.shape} to {save_path+con+'all.pt'}\")"
   ]
  },
  {
   "cell_type": "code",
   "execution_count": 54,
   "id": "081b4f25",
   "metadata": {},
   "outputs": [
    {
     "name": "stdout",
     "output_type": "stream",
     "text": [
      "acts torch.Size([150, 50, 8, 8])\n",
      "saved torch.Size([150, 50, 8, 8]) to /media/Data2/avani.gupta/debiased_studentacts_colormnistconv2/zeros_other_colorall.pt\n"
     ]
    }
   ],
   "source": [
    "# prefix = ''\n",
    "imgs = zeros_other_color\n",
    "con = 'zeros_other_color'\n",
    "save_path = f\"/media/Data2/avani.gupta/{prefix}acts_\"+model_type+bottleneck_name+'/'\n",
    "if not os.path.exists(save_path):\n",
    "    os.makedirs(save_path)\n",
    "bn_activation = None\n",
    "acts = []\n",
    "for im in imgs[:num_imgs]:\n",
    "    def save_activation_hook(mod, inp, out):\n",
    "        global bn_activation\n",
    "        bn_activation = out\n",
    "    im = torch.from_numpy(im)\n",
    "    handle = named_layers[bottleneck_name].register_forward_hook(save_activation_hook)\n",
    "    out = model(im.unsqueeze(0).cuda().float())\n",
    "    act = bn_activation.detach()\n",
    "    acts.append(act)\n",
    "    handle.remove()\n",
    "acts = torch.concat(acts,axis=0)\n",
    "torch.save(acts,save_path+con+'all.pt')\n",
    "print(\"acts\",acts.shape)\n",
    "print(f\"saved {acts.shape} to {save_path+con+'all.pt'}\")"
   ]
  },
  {
   "cell_type": "code",
   "execution_count": 22,
   "id": "afb3284b",
   "metadata": {},
   "outputs": [
    {
     "ename": "AttributeError",
     "evalue": "'NoneType' object has no attribute 'detach'",
     "output_type": "error",
     "traceback": [
      "\u001b[0;31m---------------------------------------------------------------------------\u001b[0m",
      "\u001b[0;31mAttributeError\u001b[0m                            Traceback (most recent call last)",
      "Input \u001b[0;32mIn [22]\u001b[0m, in \u001b[0;36m<cell line: 1>\u001b[0;34m()\u001b[0m\n\u001b[0;32m----> 1\u001b[0m \u001b[43msave_student_outs\u001b[49m\u001b[43m(\u001b[49m\u001b[38;5;124;43m'\u001b[39;49m\u001b[38;5;124;43mnon_zeros_red\u001b[39;49m\u001b[38;5;124;43m'\u001b[39;49m\u001b[43m,\u001b[49m\u001b[43mnon_zeros_red\u001b[49m\u001b[43m[\u001b[49m\u001b[43m:\u001b[49m\u001b[38;5;241;43m150\u001b[39;49m\u001b[43m]\u001b[49m\u001b[43m)\u001b[49m\n",
      "Input \u001b[0;32mIn [20]\u001b[0m, in \u001b[0;36msave_student_outs\u001b[0;34m(con, imgs, prefix)\u001b[0m\n\u001b[1;32m     22\u001b[0m handle \u001b[38;5;241m=\u001b[39m named_layers[bottleneck_name]\u001b[38;5;241m.\u001b[39mregister_forward_hook(save_activation_hook)\n\u001b[1;32m     23\u001b[0m out \u001b[38;5;241m=\u001b[39m model(im\u001b[38;5;241m.\u001b[39munsqueeze(\u001b[38;5;241m0\u001b[39m)\u001b[38;5;241m.\u001b[39mcuda()\u001b[38;5;241m.\u001b[39mfloat())\n\u001b[0;32m---> 24\u001b[0m act \u001b[38;5;241m=\u001b[39m \u001b[43mbn_activation\u001b[49m\u001b[38;5;241;43m.\u001b[39;49m\u001b[43mdetach\u001b[49m()\n\u001b[1;32m     25\u001b[0m acts\u001b[38;5;241m.\u001b[39mappend(act)\n\u001b[1;32m     26\u001b[0m handle\u001b[38;5;241m.\u001b[39mremove()\n",
      "\u001b[0;31mAttributeError\u001b[0m: 'NoneType' object has no attribute 'detach'"
     ]
    }
   ],
   "source": [
    "save_student_outs('non_zeros_red',non_zeros_red[:150])"
   ]
  },
  {
   "cell_type": "code",
   "execution_count": 86,
   "id": "9db6d136",
   "metadata": {},
   "outputs": [
    {
     "name": "stdout",
     "output_type": "stream",
     "text": [
      "acts torch.Size([150, 50, 8, 8])\n",
      "saved torch.Size([150, 50, 8, 8]) to /media/Data2/avani.gupta/debiased_studentacts_colormnistconv2/redall.pt\n"
     ]
    }
   ],
   "source": [
    "save_im_path = '/media/Data2/avani.gupta/imgs_np_'+f\"{shape[0]}by{shape[1]}/\"\n",
    "imgs = np.transpose(np.load(save_im_path+'biased_color0.npy'), (0,3,1,2))\n",
    "save_student_outs(con='red', imgs=imgs)\n"
   ]
  },
  {
   "cell_type": "code",
   "execution_count": 87,
   "id": "e6a02188",
   "metadata": {},
   "outputs": [
    {
     "data": {
      "text/plain": [
       "<matplotlib.image.AxesImage at 0x7fcef4a4a8b0>"
      ]
     },
     "execution_count": 87,
     "metadata": {},
     "output_type": "execute_result"
    },
    {
     "data": {
      "image/png": "[encoded data removed]",
      "text/plain": [
       "<Figure size 432x288 with 1 Axes>"
      ]
     },
     "metadata": {
      "needs_background": "light"
     },
     "output_type": "display_data"
    }
   ],
   "source": [
    "test_x,test_y = load_dataset(\"test\")\n",
    "zeros_ind = np.where(test_y==0)[0]\n",
    "zeros_imgs = test_x[zeros_ind]\n",
    "im = np.transpose(zeros_imgs[random.randint(0, len(zeros_imgs))], (1,2,0))\n",
    "plt.imshow(im)\n"
   ]
  },
  {
   "cell_type": "code",
   "execution_count": 88,
   "id": "3b4243e6",
   "metadata": {},
   "outputs": [
    {
     "name": "stdout",
     "output_type": "stream",
     "text": [
      "acts torch.Size([150, 50, 8, 8])\n",
      "saved torch.Size([150, 50, 8, 8]) to /media/Data2/avani.gupta/debiased_studentacts_colormnistconv2/other_color_zerosall.pt\n"
     ]
    }
   ],
   "source": [
    "save_student_outs(con='other_color_zeros', imgs=zeros_imgs)\n",
    "\n"
   ]
  },
  {
   "cell_type": "code",
   "execution_count": 89,
   "id": "ff56525e",
   "metadata": {},
   "outputs": [
    {
     "name": "stdout",
     "output_type": "stream",
     "text": [
      "acts torch.Size([150, 50, 8, 8])\n",
      "saved torch.Size([150, 50, 8, 8]) to /media/Data2/avani.gupta/debiased_studentacts_colormnistconv2/other_color_digitsall.pt\n"
     ]
    },
    {
     "data": {
      "image/png": "[encoded data removed]",
      "text/plain": [
       "<Figure size 432x288 with 1 Axes>"
      ]
     },
     "metadata": {
      "needs_background": "light"
     },
     "output_type": "display_data"
    }
   ],
   "source": [
    "\n",
    "zeros_ind = np.where(test_y!=0)[0]\n",
    "zeros_imgs = test_x[zeros_ind]\n",
    "i = 0\n",
    "im = np.transpose(zeros_imgs[random.randint(0, len(zeros_imgs))], (1,2,0))\n",
    "plt.imshow(im)\n",
    "\n",
    "save_student_outs(con='other_color_digits', imgs=zeros_imgs)"
   ]
  },
  {
   "cell_type": "code",
   "execution_count": 39,
   "id": "3f9c09f4",
   "metadata": {},
   "outputs": [],
   "source": [
    "path_fea = '/media/Data2/avani.gupta/dino_fea_'+f\"{shape[0]}by{shape[1]}/\"\n",
    "con = 'red_zeros'\n",
    "\n",
    "def dump_dino_fea(model, con, imgs):\n",
    "    fea_maps = []\n",
    "    for i in imgs[:num_imgs]:\n",
    "        i = torch.from_numpy(i).unsqueeze(0).float()\n",
    "        fea = model.extract_features(i.cuda(), transform=False, upsample=False)\n",
    "        fea_maps.append(fea.detach().cpu())\n",
    "    all_features = torch.cat(fea_maps,0)\n",
    "\n",
    "    pca = PCA(n_components=args.pca)\n",
    "    N, C, H, W = all_features.shape\n",
    "    all_features = all_features.permute(0, 2, 3, 1).view(-1, C).numpy()\n",
    "    print(\"Features shape: \", all_features.shape)\n",
    "    X = pca.fit_transform(all_features)\n",
    "    print(\"Features shape (PCA): \", X.shape)\n",
    "    X = torch.Tensor(X).view(N, H, W, args.pca).permute(0, 3, 1, 2)\n",
    "    scene_id = os.path.split(os.path.split(args.dir_images)[0])[1]\n",
    "    output_path_pca = os.path.join(args.dir_dst, f\"pca{args.pca}\", f\"{scene_id}.pt\")\n",
    "    print(f'Saving features to {path_fea+con}')\n",
    "    torch.save(X,path_fea+con+'all.pt')\n"
   ]
  },
  {
   "cell_type": "code",
   "execution_count": 40,
   "id": "7d4dbaf3",
   "metadata": {
    "scrolled": true
   },
   "outputs": [
    {
     "name": "stdout",
     "output_type": "stream",
     "text": [
      "Pretrained weights loaded with msg: <All keys matched successfully>\n"
     ]
    }
   ],
   "source": [
    "import sys\n",
    "sys.argv = [\"\"]\n",
    "args = parse_args()\n",
    "shape = args.imsize\n",
    "model = get_model(args.model, args.model_path, f\"cuda:{args.gpu}\")\n"
   ]
  },
  {
   "cell_type": "code",
   "execution_count": null,
   "id": "2581795e",
   "metadata": {},
   "outputs": [],
   "source": [
    "plt.imshow()"
   ]
  },
  {
   "cell_type": "markdown",
   "id": "817043fe",
   "metadata": {},
   "source": [
    "zeros_imgs, zeros_other_color  <BR>\n",
    "opp_zeros, zeros_other_color"
   ]
  },
  {
   "cell_type": "code",
   "execution_count": 43,
   "id": "d4265e82",
   "metadata": {},
   "outputs": [
    {
     "name": "stdout",
     "output_type": "stream",
     "text": [
      "Features shape:  (1350, 768)\n",
      "Features shape (PCA):  (1350, 64)\n",
      "Saving features to /media/Data2/avani.gupta/dino_fea_28by28/opp_zeros\n"
     ]
    }
   ],
   "source": [
    "dump_dino_fea(model, 'opp_zeros',zeros_imgs[:150])"
   ]
  },
  {
   "cell_type": "code",
   "execution_count": 44,
   "id": "54c15e28",
   "metadata": {},
   "outputs": [
    {
     "name": "stdout",
     "output_type": "stream",
     "text": [
      "Features shape:  (1350, 768)\n",
      "Features shape (PCA):  (1350, 64)\n",
      "Saving features to /media/Data2/avani.gupta/dino_fea_28by28/zeros_other_color\n"
     ]
    }
   ],
   "source": [
    "dump_dino_fea(model, 'zeros_other_color', zeros_other_color[:150])"
   ]
  },
  {
   "cell_type": "code",
   "execution_count": 21,
   "id": "73260b1a",
   "metadata": {},
   "outputs": [
    {
     "name": "stdout",
     "output_type": "stream",
     "text": [
      "Features shape:  (1350, 768)\n",
      "Features shape (PCA):  (1350, 64)\n",
      "Saving features to /media/Data2/avani.gupta/dino_fea_28by28/red_zeros\n"
     ]
    },
    {
     "data": {
      "image/png": "[encoded data removed]",
      "text/plain": [
       "<Figure size 432x288 with 1 Axes>"
      ]
     },
     "metadata": {
      "needs_background": "light"
     },
     "output_type": "display_data"
    }
   ],
   "source": [
    "train_x,train_y = load_dataset(\"train\")\n",
    "zeros_ind = np.where(train_y==0)[0]\n",
    "zeros_imgs = train_x[zeros_ind]\n",
    "i = 0\n",
    "im = np.transpose(zeros_imgs[0], (1,2,0))\n",
    "plt.imshow(im)\n",
    "\n",
    "dump_dino_fea(model, con, zeros_imgs)"
   ]
  },
  {
   "cell_type": "code",
   "execution_count": 22,
   "id": "071a5230",
   "metadata": {},
   "outputs": [
    {
     "name": "stdout",
     "output_type": "stream",
     "text": [
      "Features shape:  (1350, 768)\n",
      "Features shape (PCA):  (1350, 64)\n",
      "Saving features to /media/Data2/avani.gupta/dino_fea_28by28/red\n"
     ]
    }
   ],
   "source": [
    "save_im_path = '/media/Data2/avani.gupta/imgs_np_'+f\"{shape[0]}by{shape[1]}/\"\n",
    "imgs = np.transpose(np.load(save_im_path+'biased_color0.npy'), (0,3,1,2))\n",
    "dump_dino_fea(model, con='red', imgs=imgs)"
   ]
  },
  {
   "cell_type": "code",
   "execution_count": 23,
   "id": "360907b1",
   "metadata": {},
   "outputs": [
    {
     "data": {
      "text/plain": [
       "<matplotlib.image.AxesImage at 0x7fcefe872790>"
      ]
     },
     "execution_count": 23,
     "metadata": {},
     "output_type": "execute_result"
    },
    {
     "data": {
      "image/png": "[encoded data removed]",
      "text/plain": [
       "<Figure size 432x288 with 1 Axes>"
      ]
     },
     "metadata": {
      "needs_background": "light"
     },
     "output_type": "display_data"
    }
   ],
   "source": [
    "test_x,test_y = load_dataset(\"test\")\n",
    "zeros_ind = np.where(test_y==0)[0]\n",
    "zeros_imgs = test_x[zeros_ind]\n",
    "i = 0\n",
    "im = np.transpose(zeros_imgs[0], (1,2,0))\n",
    "plt.imshow(im)"
   ]
  },
  {
   "cell_type": "code",
   "execution_count": 24,
   "id": "c98bd1cc",
   "metadata": {},
   "outputs": [
    {
     "name": "stdout",
     "output_type": "stream",
     "text": [
      "Features shape:  (1350, 768)\n",
      "Features shape (PCA):  (1350, 64)\n",
      "Saving features to /media/Data2/avani.gupta/dino_fea_28by28/other_color_zeros\n"
     ]
    }
   ],
   "source": [
    "dump_dino_fea(model, con='other_color_zeros', imgs=zeros_imgs)"
   ]
  },
  {
   "cell_type": "code",
   "execution_count": 25,
   "id": "323f5b0f",
   "metadata": {},
   "outputs": [
    {
     "data": {
      "text/plain": [
       "<matplotlib.image.AxesImage at 0x7fcefe84f280>"
      ]
     },
     "execution_count": 25,
     "metadata": {},
     "output_type": "execute_result"
    },
    {
     "data": {
      "image/png": "[encoded data removed]",
      "text/plain": [
       "<Figure size 432x288 with 1 Axes>"
      ]
     },
     "metadata": {
      "needs_background": "light"
     },
     "output_type": "display_data"
    }
   ],
   "source": [
    "\n",
    "zeros_ind = np.where(test_y!=0)[0]\n",
    "zeros_imgs = test_x[zeros_ind]\n",
    "i = 0\n",
    "im = np.transpose(zeros_imgs[random.randint(0, len(zeros_imgs))], (1,2,0))\n",
    "plt.imshow(im)"
   ]
  },
  {
   "cell_type": "code",
   "execution_count": 26,
   "id": "51dc0ec1",
   "metadata": {},
   "outputs": [
    {
     "name": "stdout",
     "output_type": "stream",
     "text": [
      "Features shape:  (1350, 768)\n",
      "Features shape (PCA):  (1350, 64)\n",
      "Saving features to /media/Data2/avani.gupta/dino_fea_28by28/other_color_digits\n"
     ]
    }
   ],
   "source": [
    "dump_dino_fea(model, con='other_color_digits', imgs=zeros_imgs)"
   ]
  },
  {
   "cell_type": "markdown",
   "id": "5aa34177",
   "metadata": {},
   "source": [
    "### Sort CAVs"
   ]
  },
  {
   "cell_type": "code",
   "execution_count": 46,
   "id": "f9b8d7ba",
   "metadata": {},
   "outputs": [],
   "source": [
    "concepts = ['red',\n",
    " 'red_zeros',\n",
    " 'other_color_zeros',\n",
    " 'other_color_digits',\n",
    " 'non_zeros_red',\n",
    " 'opp_zeros',\n",
    "'zeros_other_color']"
   ]
  },
  {
   "cell_type": "code",
   "execution_count": 59,
   "id": "0bbfdc82",
   "metadata": {},
   "outputs": [
    {
     "name": "stdout",
     "output_type": "stream",
     "text": [
      "teacher\n",
      "torch.Size([150, 64, 3, 3])\n",
      "torch.Size([150, 64, 3, 3])\n",
      "red: Mean CS: 0.08394531160593033\n",
      "torch.Size([150, 64, 3, 3])\n",
      "red_zeros: Mean CS: -0.011666666716337204\n",
      "torch.Size([150, 64, 3, 3])\n",
      "other_color_zeros: Mean CS: 0.0071527776308357716\n",
      "torch.Size([150, 64, 3, 3])\n",
      "other_color_digits: Mean CS: 0.000370370369637385\n",
      "torch.Size([150, 64, 3, 3])\n",
      "non_zeros_red: Mean CS: -0.008958333171904087\n",
      "torch.Size([150, 64, 3, 3])\n",
      "opp_zeros: Mean CS: 0.00589015381410718\n",
      "torch.Size([150, 64, 3, 3])\n",
      "zeros_other_color: Mean CS: 0.0054166666232049465\n"
     ]
    }
   ],
   "source": [
    "print(\"teacher\")\n",
    "dic_all = { 'teacher':{},'mapped_teacher':{}, 'student':{}, 'debiased_student':{}}\n",
    "\n",
    "first = True\n",
    "for con in concepts:\n",
    "    direc_mean = torch.load('/media/Data2/avani.gupta/fc/direct_dino_pca_space_mnist/biased_color0_cons_randoms1.0fc.pt')['weight'][0]\n",
    "    acts = torch.load(path_fea + con + 'all.pt')\n",
    "    print(acts.shape)\n",
    "    if first:\n",
    "        print(acts.shape)\n",
    "        first = False\n",
    "    cosine_sim_lis = []\n",
    "    \n",
    "\n",
    "    for i in acts:\n",
    "        cosine_sim = F.cosine_similarity(direc_mean.cpu().unsqueeze(0), i.flatten().unsqueeze(0), dim=0)\n",
    "        cosine_sim_lis.append(cosine_sim)\n",
    "\n",
    "    mean_cosine_sim = torch.mean(torch.stack(cosine_sim_lis)).item()\n",
    "    dic_all['teacher'][con] = mean_cosine_sim\n",
    "    \n",
    "    print(f\"{con}: Mean CS:\", mean_cosine_sim)"
   ]
  },
  {
   "cell_type": "code",
   "execution_count": 48,
   "id": "b0a5fabc",
   "metadata": {},
   "outputs": [
    {
     "name": "stdout",
     "output_type": "stream",
     "text": [
      "mapped teacher\n",
      "red: Mean CS: 0.26290538907051086\n",
      "red_zeros: Mean CS: -0.04125833511352539\n",
      "other_color_zeros: Mean CS: -0.03634536266326904\n",
      "other_color_digits: Mean CS: 0.04236891120672226\n",
      "non_zeros_red: Mean CS: 0.014060581102967262\n",
      "opp_zeros: Mean CS: -0.03660953417420387\n",
      "zeros_other_color: Mean CS: 0.023604165762662888\n"
     ]
    }
   ],
   "source": [
    "print(\"mapped teacher\")\n",
    "map_to_stu_nn = DecoMapMNISTNN()\n",
    "path = '/media/Data2/avani.gupta/teacher_2/mnistpairs_vals8'\n",
    "map_to_stu_nn.load_state_dict(torch.load(path+'downconv.pt'))\n",
    "# map_to_stu_nn.load_state_dict(torch.load('downconv.pt'))\n",
    "for con in concepts:\n",
    "    file = glob.glob('/media/Data2/avani.gupta/fc/dino_mapped_to_stu_space_mnist/biased_color0_cons_randoms*')[0]\n",
    "    direc_mean = torch.load(file)['weight'][0]\n",
    "    acts = map_to_stu_nn(torch.load(path_fea + con + 'all.pt'))\n",
    "#     print(acts[0].flatten().shape, direc_mean.shape)\n",
    "#     break\n",
    "    cosine_sim_lis = []\n",
    "\n",
    "    for i in acts:\n",
    "        cosine_sim = F.cosine_similarity(direc_mean.cpu().unsqueeze(0), i.flatten().unsqueeze(0), dim=0)\n",
    "        cosine_sim_lis.append(cosine_sim)\n",
    "        \n",
    "    mean_cosine_sim = torch.mean(torch.stack(cosine_sim_lis)).item()\n",
    "    dic_all['mapped_teacher'][con] = mean_cosine_sim\n",
    "    print(f\"{con}: Mean CS:\", mean_cosine_sim)\n",
    "    "
   ]
  },
  {
   "cell_type": "code",
   "execution_count": 49,
   "id": "0b83d7b4",
   "metadata": {},
   "outputs": [
    {
     "name": "stdout",
     "output_type": "stream",
     "text": [
      "student\n",
      "red: Mean CS: -0.04568333178758621\n",
      "red_zeros: Mean CS: -0.04072786495089531\n",
      "other_color_zeros: Mean CS: -0.03754734992980957\n",
      "other_color_digits: Mean CS: 0.007559913210570812\n",
      "non_zeros_red: Mean CS: -0.034191668033599854\n",
      "opp_zeros: Mean CS: -0.03754734992980957\n",
      "zeros_other_color: Mean CS: -0.00036249999538995326\n"
     ]
    }
   ],
   "source": [
    "print(\"student\")\n",
    "save_path = '/media/Data2/avani.gupta/acts_colormnistconv2/'\n",
    "prefix = ''\n",
    "dset = 'mnist'\n",
    "# map_to_stu_nn.load_state_dict(torch.load('downconv.pt'))\n",
    "for con in concepts:\n",
    "    \n",
    "    file = glob.glob(f'/media/Data2/avani.gupta/fc/{prefix}student_space_'+dset+'/*')[0]\n",
    "    direc_mean = torch.load(file)['weight'][0]\n",
    "    \n",
    "    acts = torch.load(save_path+f'{con}all.pt')\n",
    "    cosine_sim_lis = []\n",
    "\n",
    "    for i in acts:\n",
    "        cosine_sim = F.cosine_similarity(direc_mean.cpu().unsqueeze(0), i.flatten().cpu().unsqueeze(0), dim=0)\n",
    "        cosine_sim_lis.append(cosine_sim)\n",
    "    \n",
    "    mean_cosine_sim = torch.mean(torch.stack(cosine_sim_lis)).item()\n",
    "    dic_all['student'][con] = mean_cosine_sim\n",
    "    \n",
    "    print(f\"{con}: Mean CS:\", mean_cosine_sim)"
   ]
  },
  {
   "cell_type": "code",
   "execution_count": 60,
   "id": "5552afc4",
   "metadata": {},
   "outputs": [
    {
     "name": "stdout",
     "output_type": "stream",
     "text": [
      "debiased_student\n",
      "torch.Size([150, 50, 8, 8])\n",
      "red: Mean CS: -0.019375000149011612\n",
      "torch.Size([150, 50, 8, 8])\n",
      "red_zeros: Mean CS: -0.019375000149011612\n",
      "torch.Size([150, 50, 8, 8])\n",
      "other_color_zeros: Mean CS: -0.019375000149011612\n",
      "torch.Size([150, 50, 8, 8])\n",
      "other_color_digits: Mean CS: -0.019375000149011612\n",
      "torch.Size([150, 50, 8, 8])\n",
      "non_zeros_red: Mean CS: -0.019375000149011612\n",
      "torch.Size([150, 50, 8, 8])\n",
      "opp_zeros: Mean CS: -0.0015791666228324175\n",
      "torch.Size([150, 50, 8, 8])\n",
      "zeros_other_color: Mean CS: -0.004633333534002304\n"
     ]
    }
   ],
   "source": [
    "print(\"debiased_student\")\n",
    "prefix = 'debiased_student'\n",
    "save_path = f'/media/Data2/avani.gupta/{prefix}acts_colormnistconv2/'\n",
    "\n",
    "dset = 'mnist'\n",
    "# map_to_stu_nn.load_state_dict(torch.load('downconv.pt'))\n",
    "for con in concepts:\n",
    "    \n",
    "    file = glob.glob(f'/media/Data2/avani.gupta/fc/{prefix}student_space_'+dset+'/*')[0]\n",
    "    direc_mean = torch.load(file)['weight'][0]\n",
    "    \n",
    "    acts = torch.load(save_path+f'{con}all.pt')\n",
    "    print(acts.shape)\n",
    "    cosine_sim_lis = []\n",
    "\n",
    "    for i in acts:\n",
    "        cosine_sim = F.cosine_similarity(direc_mean.cpu().unsqueeze(0), i.flatten().cpu().unsqueeze(0), dim=0)\n",
    "        cosine_sim_lis.append(cosine_sim)\n",
    "    \n",
    "    mean_cosine_sim = torch.mean(torch.stack(cosine_sim_lis)).item()\n",
    "    dic_all['debiased_student'][con] = mean_cosine_sim\n",
    "    \n",
    "    print(f\"{con}: Mean CS:\", mean_cosine_sim)"
   ]
  },
  {
   "cell_type": "code",
   "execution_count": 56,
   "id": "198a227d",
   "metadata": {},
   "outputs": [
    {
     "data": {
      "text/plain": [
       "{'teacher': {'red': 0.08394531160593033,\n",
       "  'red_zeros': -0.011666666716337204,\n",
       "  'other_color_zeros': 0.0071527776308357716,\n",
       "  'other_color_digits': 0.000370370369637385,\n",
       "  'non_zeros_red': -0.008958333171904087,\n",
       "  'opp_zeros': 0.00589015381410718,\n",
       "  'zeros_other_color': 0.0054166666232049465},\n",
       " 'mapped_teacher': {'red': 0.26290538907051086,\n",
       "  'red_zeros': -0.04125833511352539,\n",
       "  'other_color_zeros': -0.03634536266326904,\n",
       "  'other_color_digits': 0.04236891120672226,\n",
       "  'non_zeros_red': 0.014060581102967262,\n",
       "  'opp_zeros': -0.03660953417420387,\n",
       "  'zeros_other_color': 0.023604165762662888},\n",
       " 'student': {'red': -0.04568333178758621,\n",
       "  'red_zeros': -0.04072786495089531,\n",
       "  'other_color_zeros': -0.03754734992980957,\n",
       "  'other_color_digits': 0.007559913210570812,\n",
       "  'non_zeros_red': -0.034191668033599854,\n",
       "  'opp_zeros': -0.03754734992980957,\n",
       "  'zeros_other_color': -0.00036249999538995326},\n",
       " 'debiased_student': {'red': -0.019375000149011612,\n",
       "  'red_zeros': -0.019375000149011612,\n",
       "  'other_color_zeros': -0.019375000149011612,\n",
       "  'other_color_digits': -0.019375000149011612,\n",
       "  'non_zeros_red': -0.019375000149011612,\n",
       "  'opp_zeros': -0.0015791666228324175,\n",
       "  'zeros_other_color': -0.004633333534002304}}"
      ]
     },
     "execution_count": 56,
     "metadata": {},
     "output_type": "execute_result"
    }
   ],
   "source": [
    "dic_all"
   ]
  },
  {
   "cell_type": "code",
   "execution_count": 57,
   "id": "35f92b50",
   "metadata": {},
   "outputs": [
    {
     "data": {
      "text/plain": [
       "['red',\n",
       " 'red_zeros',\n",
       " 'other_color_zeros',\n",
       " 'other_color_digits',\n",
       " 'non_zeros_red',\n",
       " 'opp_zeros',\n",
       " 'zeros_other_color']"
      ]
     },
     "execution_count": 57,
     "metadata": {},
     "output_type": "execute_result"
    }
   ],
   "source": [
    "concepts"
   ]
  },
  {
   "cell_type": "code",
   "execution_count": 58,
   "id": "ba9ca8df",
   "metadata": {},
   "outputs": [
    {
     "name": "stdout",
     "output_type": "stream",
     "text": [
      "\n",
      " teacher\n",
      "abs [ 2.385 -0.773 -0.151 -0.375 -0.684 -0.193 -0.209]\n",
      " [ 0.084 -0.012  0.007  0.    -0.009  0.006  0.005]\n",
      "\n",
      " mapped_teacher\n",
      "abs [ 2.326 -0.747 -0.697  0.098 -0.188 -0.7   -0.092]\n",
      " [ 0.263 -0.041 -0.036  0.042  0.014 -0.037  0.024]\n",
      "\n",
      " student\n",
      "abs [-0.952 -0.701 -0.539  1.751 -0.369 -0.539  1.349]\n",
      " [-0.046 -0.041 -0.038  0.008 -0.034 -0.038 -0.   ]\n",
      "\n",
      " debiased_student\n",
      "abs [-0.629 -0.629 -0.629 -0.629 -0.629  1.778  1.365]\n",
      " [-0.019 -0.019 -0.019 -0.019 -0.019 -0.002 -0.005]\n"
     ]
    }
   ],
   "source": [
    "for key in dic_all: \n",
    "    ar = np.array(list(dic_all[key].values()))\n",
    "    mean = np.mean(ar)\n",
    "    std = np.std(ar)\n",
    "    print('\\n',key)#, mean, std)\n",
    "    print(\"abs\",np.around((ar-mean)/std, 3))\n",
    "    print(\"\",np.around(ar, 3))"
   ]
  },
  {
   "cell_type": "code",
   "execution_count": null,
   "id": "a0e3b813",
   "metadata": {},
   "outputs": [],
   "source": []
  },
  {
   "cell_type": "code",
   "execution_count": null,
   "id": "89c70081",
   "metadata": {},
   "outputs": [],
   "source": [
    "print(dic_all[key].keys())"
   ]
  },
  {
   "cell_type": "code",
   "execution_count": null,
   "id": "2a83dcee",
   "metadata": {},
   "outputs": [],
   "source": [
    "abs(1.7064- 1.67405) < abs(1.7064- 1.67405)"
   ]
  },
  {
   "cell_type": "code",
   "execution_count": null,
   "id": "980d77fa",
   "metadata": {},
   "outputs": [],
   "source": []
  },
  {
   "cell_type": "code",
   "execution_count": null,
   "id": "4ffa7f1c",
   "metadata": {},
   "outputs": [],
   "source": [
    "mapping_mod "
   ]
  },
  {
   "cell_type": "code",
   "execution_count": null,
   "id": "6af1ab45",
   "metadata": {},
   "outputs": [],
   "source": [
    "con = ''\n",
    "path = f'/media/Data2/avani.gupta/imgs_np_{self.shape[0]}by{self.shape[0]}/'\n",
    "if os.path.exists(path+con+'.npy'):\n",
    "    imgs = np.load(path+con+'.npy')"
   ]
  },
  {
   "cell_type": "code",
   "execution_count": null,
   "id": "5b3bf552",
   "metadata": {},
   "outputs": [],
   "source": [
    "imgs_loaded = []\n",
    "\n",
    "path = '/media/Data2/avani.gupta/IID_data/concepts/'+con+'/'\n",
    "print(\"tot imgs\", len(os.listdir(path)))\n",
    "imgs_con_full = [f for f in os.listdir(path) if os.path.isfile(os.path.join(path, f))]\n",
    "num_imgs = int(num_imgs)\n",
    "\n",
    "for file in imgs_con_full:\n",
    "    im = load_image_from_file(path+file, shape=shape)\n",
    "    if len(im)!=0:\n",
    "        imgs_loaded.append(im)\n",
    "    else:\n",
    "        print(\"could not load\",path+file)"
   ]
  },
  {
   "cell_type": "code",
   "execution_count": null,
   "id": "49cb19c6",
   "metadata": {},
   "outputs": [],
   "source": [
    "import numpy as np\n",
    "lis = np.array([0.084, -0.013])\n",
    "(lis - np.mean(lis))/np.std(lis)"
   ]
  },
  {
   "cell_type": "code",
   "execution_count": null,
   "id": "bb7c64de",
   "metadata": {},
   "outputs": [],
   "source": []
  }
 ],
 "metadata": {
  "kernelspec": {
   "display_name": "Python 3 (ipykernel)",
   "language": "python",
   "name": "python3"
  },
  "language_info": {
   "codemirror_mode": {
    "name": "ipython",
    "version": 3
   },
   "file_extension": ".py",
   "mimetype": "text/x-python",
   "name": "python",
   "nbconvert_exporter": "python",
   "pygments_lexer": "ipython3",
   "version": "3.8.13"
  }
 },
 "nbformat": 4,
 "nbformat_minor": 5
}
